{
 "cells": [
  {
   "cell_type": "code",
   "execution_count": 43,
   "id": "5908ecdb",
   "metadata": {},
   "outputs": [],
   "source": [
    "import pandas as pd"
   ]
  },
  {
   "cell_type": "code",
   "execution_count": 44,
   "id": "b7717b98",
   "metadata": {},
   "outputs": [],
   "source": [
    "#load dataset\n",
    "avocados = pd.read_csv('data/avocado.csv', sep='\\t')"
   ]
  },
  {
   "cell_type": "code",
   "execution_count": 45,
   "id": "fa756f49",
   "metadata": {},
   "outputs": [],
   "source": [
    "# Subset relevant columns\n",
    "cols = ['code', 'lc', 'product_name_en', 'quantity', 'serving_size', 'packaging_tags', 'brands', 'brands_tags', 'categories_tags', 'labels_tags', 'countries', 'countries_tags', 'origins','origins_tags']\n",
    "avocados = avocados[cols]"
   ]
  },
  {
   "cell_type": "code",
   "execution_count": 46,
   "id": "1ce1806b",
   "metadata": {},
   "outputs": [
    {
     "data": {
      "text/html": [
       "<div>\n",
       "<style scoped>\n",
       "    .dataframe tbody tr th:only-of-type {\n",
       "        vertical-align: middle;\n",
       "    }\n",
       "\n",
       "    .dataframe tbody tr th {\n",
       "        vertical-align: top;\n",
       "    }\n",
       "\n",
       "    .dataframe thead th {\n",
       "        text-align: right;\n",
       "    }\n",
       "</style>\n",
       "<table border=\"1\" class=\"dataframe\">\n",
       "  <thead>\n",
       "    <tr style=\"text-align: right;\">\n",
       "      <th></th>\n",
       "      <th>code</th>\n",
       "      <th>lc</th>\n",
       "      <th>product_name_en</th>\n",
       "      <th>quantity</th>\n",
       "      <th>serving_size</th>\n",
       "      <th>packaging_tags</th>\n",
       "      <th>brands</th>\n",
       "      <th>brands_tags</th>\n",
       "      <th>categories_tags</th>\n",
       "      <th>labels_tags</th>\n",
       "      <th>countries</th>\n",
       "      <th>countries_tags</th>\n",
       "      <th>origins</th>\n",
       "      <th>origins_tags</th>\n",
       "    </tr>\n",
       "  </thead>\n",
       "  <tbody>\n",
       "    <tr>\n",
       "      <th>0</th>\n",
       "      <td>0059749979702</td>\n",
       "      <td>fr</td>\n",
       "      <td>NaN</td>\n",
       "      <td>NaN</td>\n",
       "      <td>NaN</td>\n",
       "      <td>NaN</td>\n",
       "      <td>Naturalia</td>\n",
       "      <td>naturalia</td>\n",
       "      <td>en:plant-based-foods-and-beverages,en:plant-ba...</td>\n",
       "      <td>NaN</td>\n",
       "      <td>Canada</td>\n",
       "      <td>en:canada</td>\n",
       "      <td>NaN</td>\n",
       "      <td>NaN</td>\n",
       "    </tr>\n",
       "    <tr>\n",
       "      <th>1</th>\n",
       "      <td>7610095131409</td>\n",
       "      <td>en</td>\n",
       "      <td>NaN</td>\n",
       "      <td>NaN</td>\n",
       "      <td>NaN</td>\n",
       "      <td>NaN</td>\n",
       "      <td>Zweifel</td>\n",
       "      <td>zweifel</td>\n",
       "      <td>en:snacks,en:salty-snacks,en:appetizers,en:chi...</td>\n",
       "      <td>en:vegetarian,en:vegan</td>\n",
       "      <td>Switzerland, World</td>\n",
       "      <td>en:switzerland,en:world</td>\n",
       "      <td>NaN</td>\n",
       "      <td>NaN</td>\n",
       "    </tr>\n",
       "    <tr>\n",
       "      <th>2</th>\n",
       "      <td>4005514005578</td>\n",
       "      <td>en</td>\n",
       "      <td>Gelbe Linse Avocado Brotaufstrich</td>\n",
       "      <td>NaN</td>\n",
       "      <td>NaN</td>\n",
       "      <td>NaN</td>\n",
       "      <td>Tartex</td>\n",
       "      <td>tartex</td>\n",
       "      <td>de:abendbrotsufstrich</td>\n",
       "      <td>en:organic,en:eu-organic,en:eg-oko-verordnung</td>\n",
       "      <td>Germany</td>\n",
       "      <td>en:germany</td>\n",
       "      <td>NaN</td>\n",
       "      <td>NaN</td>\n",
       "    </tr>\n",
       "    <tr>\n",
       "      <th>3</th>\n",
       "      <td>0879890002513</td>\n",
       "      <td>en</td>\n",
       "      <td>Avocado toast chili lime</td>\n",
       "      <td>NaN</td>\n",
       "      <td>NaN</td>\n",
       "      <td>NaN</td>\n",
       "      <td>NaN</td>\n",
       "      <td>NaN</td>\n",
       "      <td>NaN</td>\n",
       "      <td>NaN</td>\n",
       "      <td>United States</td>\n",
       "      <td>en:united-states</td>\n",
       "      <td>NaN</td>\n",
       "      <td>NaN</td>\n",
       "    </tr>\n",
       "    <tr>\n",
       "      <th>4</th>\n",
       "      <td>0223086613685</td>\n",
       "      <td>en</td>\n",
       "      <td>Avocado</td>\n",
       "      <td>NaN</td>\n",
       "      <td>NaN</td>\n",
       "      <td>NaN</td>\n",
       "      <td>NaN</td>\n",
       "      <td>NaN</td>\n",
       "      <td>NaN</td>\n",
       "      <td>NaN</td>\n",
       "      <td>United States</td>\n",
       "      <td>en:united-states</td>\n",
       "      <td>NaN</td>\n",
       "      <td>NaN</td>\n",
       "    </tr>\n",
       "  </tbody>\n",
       "</table>\n",
       "</div>"
      ],
      "text/plain": [
       "            code  lc                    product_name_en quantity serving_size  \\\n",
       "0  0059749979702  fr                                NaN      NaN          NaN   \n",
       "1  7610095131409  en                                NaN      NaN          NaN   \n",
       "2  4005514005578  en  Gelbe Linse Avocado Brotaufstrich      NaN          NaN   \n",
       "3  0879890002513  en           Avocado toast chili lime      NaN          NaN   \n",
       "4  0223086613685  en                            Avocado      NaN          NaN   \n",
       "\n",
       "  packaging_tags     brands brands_tags  \\\n",
       "0            NaN  Naturalia   naturalia   \n",
       "1            NaN    Zweifel     zweifel   \n",
       "2            NaN     Tartex      tartex   \n",
       "3            NaN        NaN         NaN   \n",
       "4            NaN        NaN         NaN   \n",
       "\n",
       "                                     categories_tags  \\\n",
       "0  en:plant-based-foods-and-beverages,en:plant-ba...   \n",
       "1  en:snacks,en:salty-snacks,en:appetizers,en:chi...   \n",
       "2                              de:abendbrotsufstrich   \n",
       "3                                                NaN   \n",
       "4                                                NaN   \n",
       "\n",
       "                                     labels_tags           countries  \\\n",
       "0                                            NaN              Canada   \n",
       "1                         en:vegetarian,en:vegan  Switzerland, World   \n",
       "2  en:organic,en:eu-organic,en:eg-oko-verordnung             Germany   \n",
       "3                                            NaN       United States   \n",
       "4                                            NaN       United States   \n",
       "\n",
       "            countries_tags origins origins_tags  \n",
       "0                en:canada     NaN          NaN  \n",
       "1  en:switzerland,en:world     NaN          NaN  \n",
       "2               en:germany     NaN          NaN  \n",
       "3         en:united-states     NaN          NaN  \n",
       "4         en:united-states     NaN          NaN  "
      ]
     },
     "execution_count": 46,
     "metadata": {},
     "output_type": "execute_result"
    }
   ],
   "source": [
    "avocados.head()"
   ]
  },
  {
   "cell_type": "code",
   "execution_count": 47,
   "id": "0b9749da",
   "metadata": {},
   "outputs": [],
   "source": [
    "# Read text file containing relevant categories tags\n",
    "with open('data/relevant_avocado_categories.txt', \"r\") as file:\n",
    "    relevant_avocado_categories = file.read().splitlines()\n",
    "    file.close()"
   ]
  },
  {
   "cell_type": "code",
   "execution_count": 48,
   "id": "7eeba7ab",
   "metadata": {},
   "outputs": [],
   "source": [
    "# Drop rows where categories_tags are missing\n",
    "avocados_clean = avocados.dropna(subset=['categories_tags']).copy()"
   ]
  },
  {
   "cell_type": "code",
   "execution_count": 49,
   "id": "c4c27913",
   "metadata": {},
   "outputs": [],
   "source": [
    "# Convert comma-separated strings in the categories_tags column into a list of strings\n",
    "avocados_clean['categories_tags'] = avocados_clean['categories_tags'].str.split(',')"
   ]
  },
  {
   "cell_type": "code",
   "execution_count": 51,
   "id": "230a6fa5",
   "metadata": {},
   "outputs": [],
   "source": [
    "# Filter dataset keeping only relevant categories\n",
    "avocados_clean_filtered = avocados_clean[avocados_clean['categories_tags'].apply(lambda x: any(tag in x for tag in relevant_avocado_categories))]"
   ]
  },
  {
   "cell_type": "code",
   "execution_count": 61,
   "id": "46b4580b",
   "metadata": {},
   "outputs": [],
   "source": [
    "# Filter dataset keeping only rows related to the United Kingdom\n",
    "avocados_clean_filtered_uk = avocados_clean_filtered[avocados_clean_filtered['countries'] == 'United Kingdom']"
   ]
  },
  {
   "cell_type": "code",
   "execution_count": 73,
   "id": "f6ed8424",
   "metadata": {},
   "outputs": [
    {
     "data": {
      "text/plain": [
       "'en:peru'"
      ]
     },
     "execution_count": 73,
     "metadata": {},
     "output_type": "execute_result"
    }
   ],
   "source": [
    "# Check top country of origin\n",
    "top_avocado_origin = avocados_clean_filtered_uk['origins_tags'].value_counts().index[0]\n",
    "top_avocado_origin"
   ]
  },
  {
   "cell_type": "code",
   "execution_count": 74,
   "id": "5452fe6c",
   "metadata": {},
   "outputs": [],
   "source": [
    "# Format result\n",
    "top_avocado_origin = result.lstrip(\"en:\")"
   ]
  },
  {
   "cell_type": "code",
   "execution_count": null,
   "id": "62aaf582",
   "metadata": {},
   "outputs": [],
   "source": []
  }
 ],
 "metadata": {
  "kernelspec": {
   "display_name": "Python 3 (ipykernel)",
   "language": "python",
   "name": "python3"
  },
  "language_info": {
   "codemirror_mode": {
    "name": "ipython",
    "version": 3
   },
   "file_extension": ".py",
   "mimetype": "text/x-python",
   "name": "python",
   "nbconvert_exporter": "python",
   "pygments_lexer": "ipython3",
   "version": "3.11.5"
  }
 },
 "nbformat": 4,
 "nbformat_minor": 5
}
